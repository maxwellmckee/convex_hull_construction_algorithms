{
 "cells": [
  {
   "cell_type": "markdown",
   "metadata": {},
   "source": [
    "# 3D Convex Hull Algorithm\n",
    "------------------------\n",
    "* Have user input a number n to generate a random set of points in R^3 \n",
    "* Determine which sets of 3 points from the pointset form a plane that is on the \"outside\" of the pointset\n",
    "* Plot each triangular plane defined by the sets of 3 points to form a 3D convex shape around the pointset\n",
    "* Show which points do not lie on the convex hull inside of the shape"
   ]
  },
  {
   "cell_type": "code",
   "execution_count": null,
   "metadata": {},
   "outputs": [],
   "source": [
    "import numpy as np\n",
    "import matplotlib.pyplot as plt\n",
    "from mayavi import mlab as mylab\n",
    "from shapely.geometry import Point\n",
    "from shapely.geometry.polygon import Polygon\n",
    "import math\n",
    "\n",
    "#Generate array list of number of points specified by user\n",
    "x = int(input('Please input the number of points you want in the pointset:')) #user input number of points in pointset S\n",
    "S = np.random.choice(range(4*x), (x,3), replace=False)\n",
    "#S = np.asarray([[4,0,0],[0,4,0],[0,0,4],[0,0,0],[1,1,1]]) #good arrray list for testing functionality of program\n",
    "\n",
    "#Generate an array list of normalized points on a unit sphere #when graphing, use scale factor of .05 and .04\n",
    "#size = 150\n",
    "#n = 3 # or any positive integer\n",
    "#S = np.random.normal(size=(size, n)) \n",
    "#S /= np.linalg.norm(S, axis=1)[:, np.newaxis]\n",
    "print('S = \\n',S)\n",
    "\n"
   ]
  },
  {
   "cell_type": "code",
   "execution_count": null,
   "metadata": {},
   "outputs": [],
   "source": [
    "#index rows of ndarray list\n",
    "def indx(List, element): \n",
    "    index = 0\n",
    "    for i in List:\n",
    "        if i[0] == element[0] and i[1] == element[1] and i[2] == element[2]: #if x-coor == x-coor, y-coor == y-coor, z-coor == z-coor\n",
    "            return index\n",
    "        index += 1"
   ]
  },
  {
   "cell_type": "code",
   "execution_count": null,
   "metadata": {},
   "outputs": [],
   "source": [
    "#Create a vector between two points\n",
    "def create_vector(p1,p2): #vector points from p1 to p2\n",
    "    vector = (p2[0]-p1[0], p2[1]-p1[1], p2[2]-p1[2])\n",
    "    return vector"
   ]
  },
  {
   "cell_type": "code",
   "execution_count": null,
   "metadata": {},
   "outputs": [],
   "source": [
    "#Check if a point lies above a plane defined by 3 points\n",
    "def above_plane(p1,p2,p3,t1): #p1,p2,p3 define our plane\n",
    "    v1 = [p2[0]-p1[0],p2[1]-p1[1],p2[2]-p1[2]] #a vector in our plane\n",
    "    v2 = [p3[0]-p1[0],p3[1]-p1[1],p3[2]-p1[2]] #another vector in our plane\n",
    "    \n",
    "    #a,b,c defines a vector tangent to our plane\n",
    "    a = v1[1]*v2[2] - v1[2]*v2[1] \n",
    "    b = -(v1[0]*v2[2] - v1[2]*v2[0])\n",
    "    c = v1[0]*v2[1] - v1[1]*v2[0]\n",
    "    \n",
    "    #coordinates of t1, which we are checking is above plane\n",
    "    x = t1[0] \n",
    "    y = t1[1]\n",
    "    z = t1[2]\n",
    "    \n",
    "    plane_eq = a*(x-p1[0]) + b*(y-p1[1]) + c*(z-p1[2]) #equation of plane \n",
    "    \n",
    "    n = [a,b,c] #normal vector to plane\n",
    "    p1t1 = [t1[0]-p1[0],t1[1]-p1[1],t1[2]-p1[2]] #vector from plane to t1\n",
    "    \n",
    "    dot = n[0]*p1t1[0] + n[1]*p1t1[1] + n[2]*p1t1[2] #dot product of n and p1t1\n",
    "    \n",
    "    return dot >= 0 #return True if point is above plane"
   ]
  },
  {
   "cell_type": "code",
   "execution_count": null,
   "metadata": {},
   "outputs": [],
   "source": [
    "#Check if a point lies above a plane defined by 3 points\n",
    "def below_plane(p1,p2,p3,t1): #p1,p2,p3 define our plane\n",
    "    v1 = [p2[0]-p1[0],p2[1]-p1[1],p2[2]-p1[2]] #a vector in our plane\n",
    "    v2 = [p3[0]-p1[0],p3[1]-p1[1],p3[2]-p1[2]] #another vector in our plane\n",
    "    \n",
    "    #a,b,c defines a vector tangent to our plane\n",
    "    a = v1[1]*v2[2] - v1[2]*v2[1] \n",
    "    b = -(v1[0]*v2[2] - v1[2]*v2[0])\n",
    "    c = v1[0]*v2[1] - v1[1]*v2[0]\n",
    "    \n",
    "    #coordinates of t1, which we are checking is below plane\n",
    "    x = t1[0] \n",
    "    y = t1[1]\n",
    "    z = t1[2]\n",
    "    \n",
    "    plane_eq = a*(x-p1[0]) + b*(y-p1[1]) + c*(z-p1[2]) #equation of plane \n",
    "    \n",
    "    n = [a,b,c] #normal vector to plane\n",
    "    p1t1 = [t1[0]-p1[0],t1[1]-p1[1],t1[2]-p1[2]] #vector from plane to t1\n",
    "    \n",
    "    dot = n[0]*p1t1[0] + n[1]*p1t1[1] + n[2]*p1t1[2] #dot product of n and p1t1\n",
    "    \n",
    "    return dot <= 0 #return True if point is below plane"
   ]
  },
  {
   "cell_type": "code",
   "execution_count": null,
   "metadata": {},
   "outputs": [],
   "source": [
    "hull_pts = []\n",
    "T = np.ndarray.tolist(S)\n",
    "\n",
    "print('Hull faces: ')\n",
    "\n",
    "for i in T:\n",
    "    for j in T[indx(T, i)+1:]: #for every element after i\n",
    "        for k in T[indx(T, j)+1:]: #for every element after j\n",
    "            above = 0\n",
    "            below = 0\n",
    "            for m in T:\n",
    "                if m!=i and m!=j and m!=k: #for every element that is not i,j,k\n",
    "                    if above_plane(i,j,k,m) == True: \n",
    "                        above += 1\n",
    "                        #print('above')\n",
    "                    if below_plane(i,j,k,m) == True:\n",
    "                        below += 1\n",
    "                        #print('below')\n",
    "                    if above == len(S)-3 or below == len(S)-3: #if the rest of the points lie on the same side of plane i,j,k\n",
    "                        hull_pts.append(i), hull_pts.append(j), hull_pts.append(k)\n",
    "                        print(i,j,k)\n",
    "                        \n",
    "print('\\nThe n-gon has ',int(len(hull_pts)/3), ' faces')"
   ]
  },
  {
   "cell_type": "code",
   "execution_count": null,
   "metadata": {},
   "outputs": [],
   "source": [
    "S2 = np.ndarray.tolist(S)\n",
    "for i in S2:\n",
    "    if i in hull_pts:\n",
    "        S2.remove(i)\n",
    "\n",
    "S3 = np.asarray(S2) #list of non-hull points\n",
    "U = np.asarray(hull_pts) #list of hull points\n",
    "\n",
    "#x,y,z of non-hull points\n",
    "sx = S3[:,0]\n",
    "sy = S3[:,1]\n",
    "sz = S3[:,2]\n",
    "\n",
    "#x,y,z of hull points\n",
    "ux = U[:,0]\n",
    "uy = U[:,1]\n",
    "uz = U[:,2]\n",
    "\n",
    "first = [] #first point of each triangular plane\n",
    "second = [] #second point of each triangular plane\n",
    "third = [] #third point of each triangular plane\n",
    "\n",
    "for i in range(len(U)//3):\n",
    "    first.append(3*i)\n",
    "    second.append(3*i+1)\n",
    "    third.append(3*i+2)\n",
    "\n",
    "faces = np.array([first,second,third])\n",
    "mylab.triangular_mesh(ux,uy,uz, faces.T, opacity=.5) #graphs triangular faces\n",
    "mylab.triangular_mesh(ux,uy,uz, faces.T, representation='wireframe', color=(0,0,0)) #graphs wire frame of faces \n",
    "mylab.points3d(ux,uy,uz, scale_factor=8) #graphs hull points #sf=2.5\n",
    "mylab.points3d(sx,sy,sz, color=(1,0,0), scale_factor=6)#, opacity=.4) #graphs non-hull points #sf=2\n",
    "mylab.show()"
   ]
  }
 ],
 "metadata": {
  "kernelspec": {
   "display_name": "Python 3",
   "language": "python",
   "name": "python3"
  },
  "language_info": {
   "codemirror_mode": {
    "name": "ipython",
    "version": 3
   },
   "file_extension": ".py",
   "mimetype": "text/x-python",
   "name": "python",
   "nbconvert_exporter": "python",
   "pygments_lexer": "ipython3",
   "version": "3.7.3"
  }
 },
 "nbformat": 4,
 "nbformat_minor": 2
}
